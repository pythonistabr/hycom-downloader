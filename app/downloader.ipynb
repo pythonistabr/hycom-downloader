{
 "cells": [
  {
   "cell_type": "code",
   "execution_count": 1,
   "id": "5dbc5438",
   "metadata": {},
   "outputs": [],
   "source": [
    "import sys\n",
    "from glob import glob\n",
    "import numpy as np\n",
    "import os\n",
    "if not '..' in sys.path:\n",
    "    sys.path.append('..')\n",
    "\n",
    "from src.links_generator import Hycom_Link_Creator as hlc\n",
    "import urllib.request"
   ]
  },
  {
   "cell_type": "code",
   "execution_count": 11,
   "id": "6a11e94a",
   "metadata": {},
   "outputs": [],
   "source": [
    "#pwd\n",
    "#os.chdir('../../hycom-downloader/')"
   ]
  },
  {
   "cell_type": "code",
   "execution_count": 12,
   "id": "4843a7df",
   "metadata": {},
   "outputs": [],
   "source": [
    "with open('hycom-url.txt','r') as file:\n",
    "    file = file.readlines()\n",
    "\n",
    "url = ''.join(file)\n",
    "mylist = hlc(url,'2017-09-29','2017-10-01')\n",
    "mylist.create_dates()\n",
    "mylist.generate_urls()\n",
    "\n",
    "path = r'/mnt/c/Users/gusta/Documents/workspace/hycom_data/serie_2'\n",
    "os.chdir(path)\n",
    "previous_files = glob(\"*.nc4\")"
   ]
  },
  {
   "cell_type": "code",
   "execution_count": 13,
   "id": "8ec22c27",
   "metadata": {},
   "outputs": [
    {
     "data": {
      "text/plain": [
       "60"
      ]
     },
     "execution_count": 13,
     "metadata": {},
     "output_type": "execute_result"
    }
   ],
   "source": [
    "len(previous_files)"
   ]
  },
  {
   "cell_type": "code",
   "execution_count": 14,
   "id": "0a72dfba",
   "metadata": {},
   "outputs": [
    {
     "data": {
      "text/plain": [
       "'/mnt/c/Users/gusta/Documents/workspace/hycom_data/serie_2'"
      ]
     },
     "execution_count": 14,
     "metadata": {},
     "output_type": "execute_result"
    }
   ],
   "source": [
    "pwd"
   ]
  },
  {
   "cell_type": "code",
   "execution_count": 15,
   "id": "04eccaaf",
   "metadata": {},
   "outputs": [
    {
     "data": {
      "text/plain": [
       "'https://ncss.hycom.org/thredds/ncss/GLBv0.08/expt_57.7?var=water_u&var=water_v&north=-1&west=-40&east=-36&south=-4&disableProjSubset=on&horizStride=1&time_start=2017-06-01T00%3A00%3A00Z&time_end=2017-10-01T21%3A00%3A00Z&timeStride=1&vertCoord=&accept=netcdf4'"
      ]
     },
     "execution_count": 15,
     "metadata": {},
     "output_type": "execute_result"
    }
   ],
   "source": [
    "url"
   ]
  },
  {
   "cell_type": "code",
   "execution_count": 16,
   "id": "c724867e",
   "metadata": {},
   "outputs": [
    {
     "name": "stdout",
     "output_type": "stream",
     "text": [
      "Downloading data...\n",
      "https://ncss.hycom.org/thredds/ncss/GLBv0.08/expt_57.7?var=water_u&var=water_v&north=-1&west=-40&east=-36&south=-4&disableProjSubset=on&horizStride=1&time_start=2017-09-29T00%3A00%3A00Z&time_end=2017-09-30T21%3A00%3A00Z&timeStride=1&vertCoord=&accept=netcdf4\n"
     ]
    }
   ],
   "source": [
    "counter = len(previous_files)\n",
    "\n",
    "for _file in mylist:\n",
    "    try:\n",
    "        print('Downloading data...')\n",
    "        print(_file)\n",
    "        #wget.download(_file,\"hycom_{:03d}.nc4\".format(counter))\n",
    "        urllib.request.urlretrieve(_file,'hycom_{:03d}.nc4'.format(counter))\n",
    "        #print(f\"{file_name} downloaded successfully\")\n",
    "    except urllib.error.HTTPError as e:\n",
    "        print(f\"HTTP Error {e.code}: {e.reason} - {_file}\")\n",
    "    except urllib.error.URLError as e:\n",
    "        print(f\"URL Error: {e.reason} - {_file}\")\n",
    "    except Exception as e:\n",
    "        print(f\"Error: {e} - {_file}\")\n",
    "    counter += 1"
   ]
  }
 ],
 "metadata": {
  "kernelspec": {
   "display_name": "Python 3 (ipykernel)",
   "language": "python",
   "name": "python3"
  },
  "language_info": {
   "codemirror_mode": {
    "name": "ipython",
    "version": 3
   },
   "file_extension": ".py",
   "mimetype": "text/x-python",
   "name": "python",
   "nbconvert_exporter": "python",
   "pygments_lexer": "ipython3",
   "version": "3.8.10"
  }
 },
 "nbformat": 4,
 "nbformat_minor": 5
}
